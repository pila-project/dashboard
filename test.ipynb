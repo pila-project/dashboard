{
 "cells": [
  {
   "cell_type": "code",
   "execution_count": 2,
   "metadata": {},
   "outputs": [],
   "source": [
    "from itertools import product\n",
    "\n",
    "def horizontal():\n",
    "    for x, y in product(range(20), range(17)):\n",
    "        print(1 + sum(int(n) for n in grid[x][y: y + 4]))"
   ]
  },
  {
   "cell_type": "code",
   "execution_count": 4,
   "metadata": {},
   "outputs": [],
   "source": [
    "S = \"aabbaaaa\""
   ]
  },
  {
   "cell_type": "code",
   "execution_count": 7,
   "metadata": {},
   "outputs": [],
   "source": [
    "import re\n",
    "import collections"
   ]
  },
  {
   "cell_type": "code",
   "execution_count": 10,
   "metadata": {},
   "outputs": [],
   "source": [
    "def solution(S):\n",
    "    # write your code in Python\n",
    "    \n",
    "    if len(S) == 0:\n",
    "        \n",
    "        T = \"\"\n",
    "        \n",
    "        return T\n",
    "    \n",
    "    elif re.match('^[a-z]+$', S) == False:\n",
    "        \n",
    "        T = \"error\"\n",
    "        \n",
    "        return T\n",
    "        \n",
    "        \n",
    "    else:\n",
    "    \n",
    "     dc = collections.defaultdict(int)\n",
    "    for i in S:\n",
    "        dc[i] += 1\n",
    "    \n",
    "    T = \"\"\n",
    "    \n",
    "    for i in sorted(dc, key=dc.get, reverse=True):\n",
    "      if dc[i] > 1:\n",
    "          T += i + str(dc[i])\n",
    "    \n",
    "    return T\n"
   ]
  },
  {
   "cell_type": "code",
   "execution_count": 11,
   "metadata": {},
   "outputs": [
    {
     "name": "stdout",
     "output_type": "stream",
     "text": [
      "defaultdict(<class 'int'>, {'a': 6, 'b': 2})\n"
     ]
    },
    {
     "data": {
      "text/plain": [
       "'a6b2'"
      ]
     },
     "execution_count": 11,
     "metadata": {},
     "output_type": "execute_result"
    }
   ],
   "source": [
    "solution(S)"
   ]
  },
  {
   "cell_type": "code",
   "execution_count": null,
   "metadata": {},
   "outputs": [],
   "source": [
    "def compress(self, input):\n",
    "    if S is None or not S:\n",
    "        return S\n",
    "\n",
    "    return result if len(result) < len(input) else input"
   ]
  },
  {
   "cell_type": "code",
   "execution_count": 12,
   "metadata": {},
   "outputs": [
    {
     "ename": "IndentationError",
     "evalue": "unexpected indent (<ipython-input-12-30a3028f4bc1>, line 2)",
     "output_type": "error",
     "traceback": [
      "\u001b[0;36m  File \u001b[0;32m\"<ipython-input-12-30a3028f4bc1>\"\u001b[0;36m, line \u001b[0;32m2\u001b[0m\n\u001b[0;31m    count = 0\u001b[0m\n\u001b[0m    ^\u001b[0m\n\u001b[0;31mIndentationError\u001b[0m\u001b[0;31m:\u001b[0m unexpected indent\n"
     ]
    }
   ],
   "source": [
    "result = ''\n",
    "        count = 0\n",
    "        prev_char = input[0]\n",
    "        for char in input:\n",
    "            if char == prev_char:\n",
    "                count += 1\n",
    "            else:\n",
    "               if count > 0:\n",
    "                    result += prev_char + (str(count))\n",
    "                    prev_char = char\n",
    "                    count = 1\n",
    "               else:\n",
    "                    result += prev_char\n",
    "                    count = 1\n",
    "                    prev_char = char\n",
    "        result += prev_char + (str(count) if count > 0 else prev_char)\n",
    "        return result if len(result) < len(input) else input"
   ]
  },
  {
   "cell_type": "code",
   "execution_count": null,
   "metadata": {},
   "outputs": [],
   "source": []
  },
  {
   "cell_type": "code",
   "execution_count": null,
   "metadata": {},
   "outputs": [],
   "source": []
  },
  {
   "cell_type": "code",
   "execution_count": null,
   "metadata": {},
   "outputs": [],
   "source": [
    "aa"
   ]
  },
  {
   "cell_type": "code",
   "execution_count": 1,
   "metadata": {},
   "outputs": [],
   "source": [
    "import pandas as pd\n",
    "from google.cloud import firestore\n",
    "from helpers.plotlydash.filemanager import CreateTable, FirestoreListener\n",
    "import datetime, time\n",
    "\n"
   ]
  },
  {
   "cell_type": "code",
   "execution_count": 2,
   "metadata": {},
   "outputs": [],
   "source": [
    "results, read_time_list = FirestoreListener(collection_name='karelDB')\n"
   ]
  },
  {
   "cell_type": "code",
   "execution_count": 4,
   "metadata": {},
   "outputs": [],
   "source": [
    "df_tab3 = pd.DataFrame(CreateTable(['userId', 'data', 'type', 'currentView','date','item'], results))\n"
   ]
  },
  {
   "cell_type": "code",
   "execution_count": 7,
   "metadata": {},
   "outputs": [
    {
     "data": {
      "text/plain": [
       "array(['UPDATE_CURRENT_VIEW', 'PRE_ITEM_COMPLETE', 'UPDATE_CODE_move',\n",
       "       'BUTTON_CLICK_run', 'UPDATE_ITEM', 'BUTTON_CLICK_reset',\n",
       "       'RUN_DONE'], dtype=object)"
      ]
     },
     "execution_count": 7,
     "metadata": {},
     "output_type": "execute_result"
    }
   ],
   "source": [
    "df_tab3.type.unique()"
   ]
  },
  {
   "cell_type": "code",
   "execution_count": 28,
   "metadata": {},
   "outputs": [],
   "source": [
    "#df_tab3[(df_tab3.type==\"UPDATE_CURRENT_VIEW\")&(df_tab3.item.notnull())]"
   ]
  },
  {
   "cell_type": "code",
   "execution_count": 26,
   "metadata": {},
   "outputs": [
    {
     "data": {
      "text/plain": [
       "array(['UPDATE_CURRENT_VIEW', 'PRE_ITEM_COMPLETE', 'UPDATE_CODE_move',\n",
       "       'BUTTON_CLICK_run', 'UPDATE_ITEM', 'BUTTON_CLICK_reset',\n",
       "       'RUN_DONE'], dtype=object)"
      ]
     },
     "execution_count": 26,
     "metadata": {},
     "output_type": "execute_result"
    }
   ],
   "source": [
    "df_tab3.type.unique()"
   ]
  },
  {
   "cell_type": "code",
   "execution_count": 53,
   "metadata": {},
   "outputs": [
    {
     "data": {
      "text/plain": [
       "['',\n",
       " 'bachbumbeng',\n",
       " 'woseliwos',\n",
       " 'randomStringUpHere',\n",
       " 'badabum',\n",
       " 'e33a791f-e750-4a0d-bca0-76a034b4f97e',\n",
       " '244c8523-6cd5-43c0-a729-3781aeba47a8',\n",
       " 'ea2a7363-ce45-4862-b948-f8a0d204388a',\n",
       " 'sodeliso',\n",
       " '9ef6453f-799c-402d-baa3-0f628fa6f9b1',\n",
       " 'test',\n",
       " '053db867-5679-4153-aa89-493e3d0bd4c3',\n",
       " 'testthis',\n",
       " 'asdasd',\n",
       " 'wos',\n",
       " 'unddasgahtau',\n",
       " 'gahtseso',\n",
       " 'randomString',\n",
       " 'ccd109f9-c431-487b-b673-23f2a08aead9',\n",
       " 'bibidibab',\n",
       " 'waru',\n",
       " 'was',\n",
       " 'undeso',\n",
       " 'undesodeliso',\n",
       " 'und das da',\n",
       " 'versuechemers',\n",
       " 'jetztgahtsnüm',\n",
       " 'undesodeli',\n",
       " 'warumgahts',\n",
       " 'und das?',\n",
       " '73eaf2c1-ecb6-472f-94e5-ce7fd7265736',\n",
       " 'testthisnow',\n",
       " 'doesitwork',\n",
       " 'c309b12f-eefe-4f96-83e9-7127ebc0fcc4',\n",
       " 'waseliwas',\n",
       " '39c1aa53-0d8a-4c56-8305-62f9370e0a20',\n",
       " '608e94e1-c5e6-4459-a00e-416ee94344b6',\n",
       " 'wis',\n",
       " '21380152-44ba-4203-8eb9-662b2ada328e',\n",
       " 'aber jetzt',\n",
       " 'asdas',\n",
       " 'd13f9685-93f1-425f-a3d0-bb66431d048a',\n",
       " '0db88cd5-1fbc-4916-a696-4fde47c52436',\n",
       " 'aber da',\n",
       " 'bonaventura',\n",
       " 'engin',\n",
       " 'Mario',\n",
       " 'warum gaht das']"
      ]
     },
     "execution_count": 53,
     "metadata": {},
     "output_type": "execute_result"
    }
   ],
   "source": [
    "df_tab3.userId.unique().tolist()"
   ]
  },
  {
   "cell_type": "code",
   "execution_count": 29,
   "metadata": {},
   "outputs": [],
   "source": [
    "#df_tab3[(df_tab3.userId=='bachbumbeng')&(df_tab3.item==\"Commands 1\")].sort_values(by='date')"
   ]
  },
  {
   "cell_type": "code",
   "execution_count": 169,
   "metadata": {},
   "outputs": [
    {
     "data": {
      "text/html": [
       "<div>\n",
       "<style scoped>\n",
       "    .dataframe tbody tr th:only-of-type {\n",
       "        vertical-align: middle;\n",
       "    }\n",
       "\n",
       "    .dataframe tbody tr th {\n",
       "        vertical-align: top;\n",
       "    }\n",
       "\n",
       "    .dataframe thead th {\n",
       "        text-align: right;\n",
       "    }\n",
       "</style>\n",
       "<table border=\"1\" class=\"dataframe\">\n",
       "  <thead>\n",
       "    <tr style=\"text-align: right;\">\n",
       "      <th></th>\n",
       "      <th>userId</th>\n",
       "      <th>data</th>\n",
       "      <th>type</th>\n",
       "      <th>currentView</th>\n",
       "      <th>date</th>\n",
       "      <th>item</th>\n",
       "    </tr>\n",
       "  </thead>\n",
       "  <tbody>\n",
       "  </tbody>\n",
       "</table>\n",
       "</div>"
      ],
      "text/plain": [
       "Empty DataFrame\n",
       "Columns: [userId, data, type, currentView, date, item]\n",
       "Index: []"
      ]
     },
     "execution_count": 169,
     "metadata": {},
     "output_type": "execute_result"
    }
   ],
   "source": []
  },
  {
   "cell_type": "code",
   "execution_count": 55,
   "metadata": {},
   "outputs": [
    {
     "name": "stdout",
     "output_type": "stream",
     "text": [
      "user is \n",
      "item is None\n",
      "**************\n",
      "item is Commands 1\n",
      "**************\n",
      "item is \n",
      "**************\n",
      "item is FirstProgram\n",
      "**************\n",
      "item is dashboard\n",
      "**************\n",
      "item is KarelCommandsMove\n",
      "**************\n",
      "item is Teach 1\n",
      "**************\n",
      "item is CommandsB\n",
      "**************\n",
      "item is KarelCommandsPickStone\n",
      "**************\n",
      "item is MeetKarel\n",
      "**************\n",
      "item is KarelCommandsTurnLeft\n",
      "**************\n",
      "item is ModifyMoves\n",
      "**************\n",
      "item is KarelCommandsPlaceStone\n",
      "**************\n",
      "item is CommandsA\n",
      "**************\n",
      "item is PreDone\n",
      "**************\n",
      "user is bachbumbeng\n",
      "item is None\n",
      "user app\n"
     ]
    },
    {
     "ename": "KeyError",
     "evalue": "0",
     "output_type": "error",
     "traceback": [
      "\u001b[0;31m---------------------------------------------------------------------------\u001b[0m",
      "\u001b[0;31mKeyError\u001b[0m                                  Traceback (most recent call last)",
      "\u001b[0;32m~/anaconda3/lib/python3.7/site-packages/pandas/core/indexes/base.py\u001b[0m in \u001b[0;36mget_loc\u001b[0;34m(self, key, method, tolerance)\u001b[0m\n\u001b[1;32m   2890\u001b[0m             \u001b[0;32mtry\u001b[0m\u001b[0;34m:\u001b[0m\u001b[0;34m\u001b[0m\u001b[0;34m\u001b[0m\u001b[0m\n\u001b[0;32m-> 2891\u001b[0;31m                 \u001b[0;32mreturn\u001b[0m \u001b[0mself\u001b[0m\u001b[0;34m.\u001b[0m\u001b[0m_engine\u001b[0m\u001b[0;34m.\u001b[0m\u001b[0mget_loc\u001b[0m\u001b[0;34m(\u001b[0m\u001b[0mcasted_key\u001b[0m\u001b[0;34m)\u001b[0m\u001b[0;34m\u001b[0m\u001b[0;34m\u001b[0m\u001b[0m\n\u001b[0m\u001b[1;32m   2892\u001b[0m             \u001b[0;32mexcept\u001b[0m \u001b[0mKeyError\u001b[0m \u001b[0;32mas\u001b[0m \u001b[0merr\u001b[0m\u001b[0;34m:\u001b[0m\u001b[0;34m\u001b[0m\u001b[0;34m\u001b[0m\u001b[0m\n",
      "\u001b[0;32mpandas/_libs/index.pyx\u001b[0m in \u001b[0;36mpandas._libs.index.IndexEngine.get_loc\u001b[0;34m()\u001b[0m\n",
      "\u001b[0;32mpandas/_libs/index.pyx\u001b[0m in \u001b[0;36mpandas._libs.index.IndexEngine.get_loc\u001b[0;34m()\u001b[0m\n",
      "\u001b[0;32mpandas/_libs/hashtable_class_helper.pxi\u001b[0m in \u001b[0;36mpandas._libs.hashtable.Int64HashTable.get_item\u001b[0;34m()\u001b[0m\n",
      "\u001b[0;32mpandas/_libs/hashtable_class_helper.pxi\u001b[0m in \u001b[0;36mpandas._libs.hashtable.Int64HashTable.get_item\u001b[0;34m()\u001b[0m\n",
      "\u001b[0;31mKeyError\u001b[0m: 0",
      "\nThe above exception was the direct cause of the following exception:\n",
      "\u001b[0;31mKeyError\u001b[0m                                  Traceback (most recent call last)",
      "\u001b[0;32m<ipython-input-55-c1557d4a39a7>\u001b[0m in \u001b[0;36m<module>\u001b[0;34m\u001b[0m\n\u001b[1;32m     17\u001b[0m             \u001b[0mprint\u001b[0m\u001b[0;34m(\u001b[0m\u001b[0;34m'user app'\u001b[0m\u001b[0;34m)\u001b[0m\u001b[0;34m\u001b[0m\u001b[0;34m\u001b[0m\u001b[0m\n\u001b[1;32m     18\u001b[0m             item_start_time.append(sorted_user_data.date[(sorted_user_data.currentView == \"dashboard\")\n\u001b[0;32m---> 19\u001b[0;31m                                                              &(sorted_user_data.item == item)][0])\n\u001b[0m\u001b[1;32m     20\u001b[0m \u001b[0;34m\u001b[0m\u001b[0m\n\u001b[1;32m     21\u001b[0m \u001b[0;34m\u001b[0m\u001b[0m\n",
      "\u001b[0;32m~/anaconda3/lib/python3.7/site-packages/pandas/core/series.py\u001b[0m in \u001b[0;36m__getitem__\u001b[0;34m(self, key)\u001b[0m\n\u001b[1;32m    880\u001b[0m \u001b[0;34m\u001b[0m\u001b[0m\n\u001b[1;32m    881\u001b[0m         \u001b[0;32melif\u001b[0m \u001b[0mkey_is_scalar\u001b[0m\u001b[0;34m:\u001b[0m\u001b[0;34m\u001b[0m\u001b[0;34m\u001b[0m\u001b[0m\n\u001b[0;32m--> 882\u001b[0;31m             \u001b[0;32mreturn\u001b[0m \u001b[0mself\u001b[0m\u001b[0;34m.\u001b[0m\u001b[0m_get_value\u001b[0m\u001b[0;34m(\u001b[0m\u001b[0mkey\u001b[0m\u001b[0;34m)\u001b[0m\u001b[0;34m\u001b[0m\u001b[0;34m\u001b[0m\u001b[0m\n\u001b[0m\u001b[1;32m    883\u001b[0m \u001b[0;34m\u001b[0m\u001b[0m\n\u001b[1;32m    884\u001b[0m         if (\n",
      "\u001b[0;32m~/anaconda3/lib/python3.7/site-packages/pandas/core/series.py\u001b[0m in \u001b[0;36m_get_value\u001b[0;34m(self, label, takeable)\u001b[0m\n\u001b[1;32m    989\u001b[0m \u001b[0;34m\u001b[0m\u001b[0m\n\u001b[1;32m    990\u001b[0m         \u001b[0;31m# Similar to Index.get_value, but we do not fall back to positional\u001b[0m\u001b[0;34m\u001b[0m\u001b[0;34m\u001b[0m\u001b[0;34m\u001b[0m\u001b[0m\n\u001b[0;32m--> 991\u001b[0;31m         \u001b[0mloc\u001b[0m \u001b[0;34m=\u001b[0m \u001b[0mself\u001b[0m\u001b[0;34m.\u001b[0m\u001b[0mindex\u001b[0m\u001b[0;34m.\u001b[0m\u001b[0mget_loc\u001b[0m\u001b[0;34m(\u001b[0m\u001b[0mlabel\u001b[0m\u001b[0;34m)\u001b[0m\u001b[0;34m\u001b[0m\u001b[0;34m\u001b[0m\u001b[0m\n\u001b[0m\u001b[1;32m    992\u001b[0m         \u001b[0;32mreturn\u001b[0m \u001b[0mself\u001b[0m\u001b[0;34m.\u001b[0m\u001b[0mindex\u001b[0m\u001b[0;34m.\u001b[0m\u001b[0m_get_values_for_loc\u001b[0m\u001b[0;34m(\u001b[0m\u001b[0mself\u001b[0m\u001b[0;34m,\u001b[0m \u001b[0mloc\u001b[0m\u001b[0;34m,\u001b[0m \u001b[0mlabel\u001b[0m\u001b[0;34m)\u001b[0m\u001b[0;34m\u001b[0m\u001b[0;34m\u001b[0m\u001b[0m\n\u001b[1;32m    993\u001b[0m \u001b[0;34m\u001b[0m\u001b[0m\n",
      "\u001b[0;32m~/anaconda3/lib/python3.7/site-packages/pandas/core/indexes/base.py\u001b[0m in \u001b[0;36mget_loc\u001b[0;34m(self, key, method, tolerance)\u001b[0m\n\u001b[1;32m   2891\u001b[0m                 \u001b[0;32mreturn\u001b[0m \u001b[0mself\u001b[0m\u001b[0;34m.\u001b[0m\u001b[0m_engine\u001b[0m\u001b[0;34m.\u001b[0m\u001b[0mget_loc\u001b[0m\u001b[0;34m(\u001b[0m\u001b[0mcasted_key\u001b[0m\u001b[0;34m)\u001b[0m\u001b[0;34m\u001b[0m\u001b[0;34m\u001b[0m\u001b[0m\n\u001b[1;32m   2892\u001b[0m             \u001b[0;32mexcept\u001b[0m \u001b[0mKeyError\u001b[0m \u001b[0;32mas\u001b[0m \u001b[0merr\u001b[0m\u001b[0;34m:\u001b[0m\u001b[0;34m\u001b[0m\u001b[0;34m\u001b[0m\u001b[0m\n\u001b[0;32m-> 2893\u001b[0;31m                 \u001b[0;32mraise\u001b[0m \u001b[0mKeyError\u001b[0m\u001b[0;34m(\u001b[0m\u001b[0mkey\u001b[0m\u001b[0;34m)\u001b[0m \u001b[0;32mfrom\u001b[0m \u001b[0merr\u001b[0m\u001b[0;34m\u001b[0m\u001b[0;34m\u001b[0m\u001b[0m\n\u001b[0m\u001b[1;32m   2894\u001b[0m \u001b[0;34m\u001b[0m\u001b[0m\n\u001b[1;32m   2895\u001b[0m         \u001b[0;32mif\u001b[0m \u001b[0mtolerance\u001b[0m \u001b[0;32mis\u001b[0m \u001b[0;32mnot\u001b[0m \u001b[0;32mNone\u001b[0m\u001b[0;34m:\u001b[0m\u001b[0;34m\u001b[0m\u001b[0;34m\u001b[0m\u001b[0m\n",
      "\u001b[0;31mKeyError\u001b[0m: 0"
     ]
    }
   ],
   "source": [
    "for user in df_tab3.userId.unique():\n",
    "    print(\"user is {}\".format(user))\n",
    "    \n",
    "    sorted_user_data = df_tab3[df_tab3.userId == user].sort_values(by='date')\n",
    "    \n",
    "    \n",
    "    item_start_time = []\n",
    "    item_end_time = []\n",
    "    \n",
    "    \n",
    "    duration_dict = {}\n",
    "    \n",
    "    for item in df_tab3.item.unique().tolist():\n",
    "        print(\"item is {}\".format(item))\n",
    "        \n",
    "        if (user is not None) & (user != ''):\n",
    "            print('user app')\n",
    "            item_start_time.append(sorted_user_data.date[(sorted_user_data.currentView == \"dashboard\")\n",
    "                                                             &(sorted_user_data.item == item)][0])\n",
    "        \n",
    "\n",
    "            item_end_time.extend(list(sorted_user_data.date[(sorted_user_data.data == \"successful\") \n",
    "                                                            &(sorted_user_data.type== \"RUN_DONE\")\n",
    "                                                                 &(sorted_user_data.item == item)]))\n",
    "\n",
    "            n_events = max(len(item_start_time),len(item_end_time))\n",
    "\n",
    "            print(len(item_start_time),len(item_end_time))\n",
    "\n",
    "            for st in range(n_events):\n",
    "\n",
    "                if len(item_start_time) >= len(item_end_time):  \n",
    "\n",
    "                    sc = st\n",
    "                    while sc < len(item_end_time):\n",
    "                        print(\"start time is {}, end time is {}, duration is {} seconds\".format(item_start_time[sc],item_end_time[sc],round(datetime.datetime.strptime(item_end_time[sc], \"%Y-%m-%dT%H:%M:%S.%fZ\").timestamp()-\n",
    "                        datetime.datetime.strptime(item_start_time[sc], \"%Y-%m-%dT%H:%M:%S.%fZ\").timestamp(),2)))\n",
    "                        sc +=1\n",
    "                    else:\n",
    "                        if (len(item_end_time) == 0) or (st >= len(item_end_time)):\n",
    "                            print(\"start time is {}\".format(item_start_time[st]))\n",
    "                        else:\n",
    "                            pass\n",
    "\n",
    "                else:\n",
    "                    print(\"end time is {}\".format(item_end_time[st]))\n",
    "\n",
    "            print(\".....\")\n",
    "        print(\"**************\")"
   ]
  },
  {
   "cell_type": "code",
   "execution_count": 80,
   "metadata": {},
   "outputs": [
    {
     "data": {
      "text/html": [
       "<div>\n",
       "<style scoped>\n",
       "    .dataframe tbody tr th:only-of-type {\n",
       "        vertical-align: middle;\n",
       "    }\n",
       "\n",
       "    .dataframe tbody tr th {\n",
       "        vertical-align: top;\n",
       "    }\n",
       "\n",
       "    .dataframe thead th {\n",
       "        text-align: right;\n",
       "    }\n",
       "</style>\n",
       "<table border=\"1\" class=\"dataframe\">\n",
       "  <thead>\n",
       "    <tr style=\"text-align: right;\">\n",
       "      <th></th>\n",
       "      <th>userId</th>\n",
       "      <th>data</th>\n",
       "      <th>type</th>\n",
       "      <th>currentView</th>\n",
       "      <th>date</th>\n",
       "    </tr>\n",
       "  </thead>\n",
       "  <tbody>\n",
       "    <tr>\n",
       "      <th>501</th>\n",
       "      <td>woseliwos</td>\n",
       "      <td>Welcome</td>\n",
       "      <td>PRE_ITEM_COMPLETE</td>\n",
       "      <td>Welcome</td>\n",
       "      <td>2020-09-04T19:57:17.196Z</td>\n",
       "    </tr>\n",
       "    <tr>\n",
       "      <th>740</th>\n",
       "      <td>woseliwos</td>\n",
       "      <td>Welcome</td>\n",
       "      <td>PRE_ITEM_COMPLETE</td>\n",
       "      <td>Welcome</td>\n",
       "      <td>2020-09-08T05:56:21.957Z</td>\n",
       "    </tr>\n",
       "    <tr>\n",
       "      <th>47</th>\n",
       "      <td>woseliwos</td>\n",
       "      <td>MeetKarel</td>\n",
       "      <td>UPDATE_CURRENT_VIEW</td>\n",
       "      <td>MeetKarel</td>\n",
       "      <td>2020-09-08T17:42:48.459Z</td>\n",
       "    </tr>\n",
       "    <tr>\n",
       "      <th>40</th>\n",
       "      <td>woseliwos</td>\n",
       "      <td>MeetKarel</td>\n",
       "      <td>PRE_ITEM_COMPLETE</td>\n",
       "      <td>MeetKarel</td>\n",
       "      <td>2020-09-08T17:42:49.177Z</td>\n",
       "    </tr>\n",
       "    <tr>\n",
       "      <th>787</th>\n",
       "      <td>woseliwos</td>\n",
       "      <td>KarelCommandsMove</td>\n",
       "      <td>PRE_ITEM_COMPLETE</td>\n",
       "      <td>KarelCommandsMove</td>\n",
       "      <td>2020-09-08T17:42:49.423Z</td>\n",
       "    </tr>\n",
       "    <tr>\n",
       "      <th>315</th>\n",
       "      <td>woseliwos</td>\n",
       "      <td>KarelCommandsTurnLeft</td>\n",
       "      <td>PRE_ITEM_COMPLETE</td>\n",
       "      <td>KarelCommandsTurnLeft</td>\n",
       "      <td>2020-09-08T17:42:49.595Z</td>\n",
       "    </tr>\n",
       "    <tr>\n",
       "      <th>268</th>\n",
       "      <td>woseliwos</td>\n",
       "      <td>KarelCommandsPickStone</td>\n",
       "      <td>PRE_ITEM_COMPLETE</td>\n",
       "      <td>KarelCommandsPickStone</td>\n",
       "      <td>2020-09-08T17:42:49.782Z</td>\n",
       "    </tr>\n",
       "    <tr>\n",
       "      <th>491</th>\n",
       "      <td>woseliwos</td>\n",
       "      <td>KarelCommandsPlaceStone</td>\n",
       "      <td>PRE_ITEM_COMPLETE</td>\n",
       "      <td>KarelCommandsPlaceStone</td>\n",
       "      <td>2020-09-08T17:42:49.987Z</td>\n",
       "    </tr>\n",
       "    <tr>\n",
       "      <th>86</th>\n",
       "      <td>woseliwos</td>\n",
       "      <td>CommandsA</td>\n",
       "      <td>PRE_ITEM_COMPLETE</td>\n",
       "      <td>CommandsA</td>\n",
       "      <td>2020-09-08T17:42:50.357Z</td>\n",
       "    </tr>\n",
       "    <tr>\n",
       "      <th>94</th>\n",
       "      <td>woseliwos</td>\n",
       "      <td>CommandsB</td>\n",
       "      <td>PRE_ITEM_COMPLETE</td>\n",
       "      <td>CommandsB</td>\n",
       "      <td>2020-09-08T17:42:50.862Z</td>\n",
       "    </tr>\n",
       "    <tr>\n",
       "      <th>18</th>\n",
       "      <td>woseliwos</td>\n",
       "      <td>FirstProgram</td>\n",
       "      <td>PRE_ITEM_COMPLETE</td>\n",
       "      <td>FirstProgram</td>\n",
       "      <td>2020-09-08T17:42:51.718Z</td>\n",
       "    </tr>\n",
       "    <tr>\n",
       "      <th>925</th>\n",
       "      <td>woseliwos</td>\n",
       "      <td>ModifyMoves</td>\n",
       "      <td>PRE_ITEM_COMPLETE</td>\n",
       "      <td>ModifyMoves</td>\n",
       "      <td>2020-09-08T17:42:52.126Z</td>\n",
       "    </tr>\n",
       "    <tr>\n",
       "      <th>770</th>\n",
       "      <td>woseliwos</td>\n",
       "      <td>PreDone</td>\n",
       "      <td>PRE_ITEM_COMPLETE</td>\n",
       "      <td>PreDone</td>\n",
       "      <td>2020-09-08T17:42:52.762Z</td>\n",
       "    </tr>\n",
       "    <tr>\n",
       "      <th>427</th>\n",
       "      <td>woseliwos</td>\n",
       "      <td>CommandsMLMR</td>\n",
       "      <td>UPDATE_CURRENT_VIEW</td>\n",
       "      <td>dashboard</td>\n",
       "      <td>2020-09-08T17:43:05.497Z</td>\n",
       "    </tr>\n",
       "    <tr>\n",
       "      <th>11</th>\n",
       "      <td>woseliwos</td>\n",
       "      <td>CommandsHouse</td>\n",
       "      <td>UPDATE_CURRENT_VIEW</td>\n",
       "      <td>CommandsMLMR</td>\n",
       "      <td>2020-09-08T17:43:20.738Z</td>\n",
       "    </tr>\n",
       "    <tr>\n",
       "      <th>342</th>\n",
       "      <td>woseliwos</td>\n",
       "      <td>CommandsHouseBad</td>\n",
       "      <td>UPDATE_CURRENT_VIEW</td>\n",
       "      <td>CommandsHouse</td>\n",
       "      <td>2020-09-08T17:43:24.947Z</td>\n",
       "    </tr>\n",
       "    <tr>\n",
       "      <th>467</th>\n",
       "      <td>woseliwos</td>\n",
       "      <td>CommandsMLMR</td>\n",
       "      <td>UPDATE_CURRENT_VIEW</td>\n",
       "      <td>CommandsHouseBad</td>\n",
       "      <td>2020-09-08T17:43:29.453Z</td>\n",
       "    </tr>\n",
       "    <tr>\n",
       "      <th>172</th>\n",
       "      <td>woseliwos</td>\n",
       "      <td>CommandsHouse</td>\n",
       "      <td>UPDATE_CURRENT_VIEW</td>\n",
       "      <td>CommandsMLMR</td>\n",
       "      <td>2020-09-08T17:43:31.705Z</td>\n",
       "    </tr>\n",
       "    <tr>\n",
       "      <th>164</th>\n",
       "      <td>woseliwos</td>\n",
       "      <td>&lt;xml&gt;&lt;block type=\"karel_main\" deletable=\"false...</td>\n",
       "      <td>BUTTON_CLICK_run</td>\n",
       "      <td>CommandsHouse</td>\n",
       "      <td>2020-09-08T17:43:32.425Z</td>\n",
       "    </tr>\n",
       "    <tr>\n",
       "      <th>204</th>\n",
       "      <td>woseliwos</td>\n",
       "      <td>CommandsMLMR</td>\n",
       "      <td>UPDATE_CURRENT_VIEW</td>\n",
       "      <td>CommandsHouse</td>\n",
       "      <td>2020-09-08T17:43:47.627Z</td>\n",
       "    </tr>\n",
       "    <tr>\n",
       "      <th>197</th>\n",
       "      <td>woseliwos</td>\n",
       "      <td>&lt;xml&gt;&lt;block type=\"karel_main\" deletable=\"false...</td>\n",
       "      <td>BUTTON_CLICK_run</td>\n",
       "      <td>CommandsMLMR</td>\n",
       "      <td>2020-09-08T17:43:52.113Z</td>\n",
       "    </tr>\n",
       "    <tr>\n",
       "      <th>426</th>\n",
       "      <td>woseliwos</td>\n",
       "      <td>&lt;xml&gt;&lt;block type=\"karel_main\" deletable=\"false...</td>\n",
       "      <td>UPDATE_CODE_move</td>\n",
       "      <td>CommandsMLMR</td>\n",
       "      <td>2020-09-08T17:43:56.105Z</td>\n",
       "    </tr>\n",
       "    <tr>\n",
       "      <th>904</th>\n",
       "      <td>woseliwos</td>\n",
       "      <td>&lt;xml&gt;&lt;block type=\"karel_main\" deletable=\"false...</td>\n",
       "      <td>UPDATE_CODE_move</td>\n",
       "      <td>CommandsMLMR</td>\n",
       "      <td>2020-09-08T17:43:57.643Z</td>\n",
       "    </tr>\n",
       "    <tr>\n",
       "      <th>116</th>\n",
       "      <td>woseliwos</td>\n",
       "      <td>&lt;xml&gt;&lt;block type=\"karel_main\" deletable=\"false...</td>\n",
       "      <td>UPDATE_CODE_move</td>\n",
       "      <td>CommandsMLMR</td>\n",
       "      <td>2020-09-08T17:43:58.963Z</td>\n",
       "    </tr>\n",
       "    <tr>\n",
       "      <th>831</th>\n",
       "      <td>woseliwos</td>\n",
       "      <td>&lt;xml&gt;&lt;block type=\"karel_main\" deletable=\"false...</td>\n",
       "      <td>UPDATE_CODE_move</td>\n",
       "      <td>CommandsMLMR</td>\n",
       "      <td>2020-09-08T17:44:00.005Z</td>\n",
       "    </tr>\n",
       "    <tr>\n",
       "      <th>114</th>\n",
       "      <td>woseliwos</td>\n",
       "      <td>&lt;xml&gt;&lt;block type=\"karel_main\" deletable=\"false...</td>\n",
       "      <td>UPDATE_CODE_move</td>\n",
       "      <td>CommandsMLMR</td>\n",
       "      <td>2020-09-08T17:44:01.119Z</td>\n",
       "    </tr>\n",
       "    <tr>\n",
       "      <th>128</th>\n",
       "      <td>woseliwos</td>\n",
       "      <td>&lt;xml&gt;&lt;block type=\"karel_main\" deletable=\"false...</td>\n",
       "      <td>UPDATE_CODE_move</td>\n",
       "      <td>CommandsMLMR</td>\n",
       "      <td>2020-09-08T17:44:02.105Z</td>\n",
       "    </tr>\n",
       "    <tr>\n",
       "      <th>704</th>\n",
       "      <td>woseliwos</td>\n",
       "      <td>&lt;xml&gt;&lt;block type=\"karel_main\" deletable=\"false...</td>\n",
       "      <td>UPDATE_CODE_move</td>\n",
       "      <td>CommandsMLMR</td>\n",
       "      <td>2020-09-08T17:44:03.492Z</td>\n",
       "    </tr>\n",
       "    <tr>\n",
       "      <th>809</th>\n",
       "      <td>woseliwos</td>\n",
       "      <td>&lt;xml&gt;&lt;block type=\"karel_main\" deletable=\"false...</td>\n",
       "      <td>BUTTON_CLICK_run</td>\n",
       "      <td>CommandsMLMR</td>\n",
       "      <td>2020-09-08T17:44:04.856Z</td>\n",
       "    </tr>\n",
       "    <tr>\n",
       "      <th>567</th>\n",
       "      <td>woseliwos</td>\n",
       "      <td>successful</td>\n",
       "      <td>RUN_DONE</td>\n",
       "      <td>CommandsMLMR</td>\n",
       "      <td>2020-09-08T17:44:07.814Z</td>\n",
       "    </tr>\n",
       "    <tr>\n",
       "      <th>8</th>\n",
       "      <td>woseliwos</td>\n",
       "      <td>MethodsStepUp</td>\n",
       "      <td>UPDATE_CURRENT_VIEW</td>\n",
       "      <td>dashboard</td>\n",
       "      <td>2020-09-08T17:44:45.426Z</td>\n",
       "    </tr>\n",
       "    <tr>\n",
       "      <th>263</th>\n",
       "      <td>woseliwos</td>\n",
       "      <td>&lt;xml&gt;&lt;block type=\"karel_main\" deletable=\"false...</td>\n",
       "      <td>UPDATE_CODE_move</td>\n",
       "      <td>MethodsStepUp</td>\n",
       "      <td>2020-09-08T17:44:45.582Z</td>\n",
       "    </tr>\n",
       "  </tbody>\n",
       "</table>\n",
       "</div>"
      ],
      "text/plain": [
       "        userId                                               data  \\\n",
       "501  woseliwos                                            Welcome   \n",
       "740  woseliwos                                            Welcome   \n",
       "47   woseliwos                                          MeetKarel   \n",
       "40   woseliwos                                          MeetKarel   \n",
       "787  woseliwos                                  KarelCommandsMove   \n",
       "315  woseliwos                              KarelCommandsTurnLeft   \n",
       "268  woseliwos                             KarelCommandsPickStone   \n",
       "491  woseliwos                            KarelCommandsPlaceStone   \n",
       "86   woseliwos                                          CommandsA   \n",
       "94   woseliwos                                          CommandsB   \n",
       "18   woseliwos                                       FirstProgram   \n",
       "925  woseliwos                                        ModifyMoves   \n",
       "770  woseliwos                                            PreDone   \n",
       "427  woseliwos                                       CommandsMLMR   \n",
       "11   woseliwos                                      CommandsHouse   \n",
       "342  woseliwos                                   CommandsHouseBad   \n",
       "467  woseliwos                                       CommandsMLMR   \n",
       "172  woseliwos                                      CommandsHouse   \n",
       "164  woseliwos  <xml><block type=\"karel_main\" deletable=\"false...   \n",
       "204  woseliwos                                       CommandsMLMR   \n",
       "197  woseliwos  <xml><block type=\"karel_main\" deletable=\"false...   \n",
       "426  woseliwos  <xml><block type=\"karel_main\" deletable=\"false...   \n",
       "904  woseliwos  <xml><block type=\"karel_main\" deletable=\"false...   \n",
       "116  woseliwos  <xml><block type=\"karel_main\" deletable=\"false...   \n",
       "831  woseliwos  <xml><block type=\"karel_main\" deletable=\"false...   \n",
       "114  woseliwos  <xml><block type=\"karel_main\" deletable=\"false...   \n",
       "128  woseliwos  <xml><block type=\"karel_main\" deletable=\"false...   \n",
       "704  woseliwos  <xml><block type=\"karel_main\" deletable=\"false...   \n",
       "809  woseliwos  <xml><block type=\"karel_main\" deletable=\"false...   \n",
       "567  woseliwos                                         successful   \n",
       "8    woseliwos                                      MethodsStepUp   \n",
       "263  woseliwos  <xml><block type=\"karel_main\" deletable=\"false...   \n",
       "\n",
       "                    type              currentView                      date  \n",
       "501    PRE_ITEM_COMPLETE                  Welcome  2020-09-04T19:57:17.196Z  \n",
       "740    PRE_ITEM_COMPLETE                  Welcome  2020-09-08T05:56:21.957Z  \n",
       "47   UPDATE_CURRENT_VIEW                MeetKarel  2020-09-08T17:42:48.459Z  \n",
       "40     PRE_ITEM_COMPLETE                MeetKarel  2020-09-08T17:42:49.177Z  \n",
       "787    PRE_ITEM_COMPLETE        KarelCommandsMove  2020-09-08T17:42:49.423Z  \n",
       "315    PRE_ITEM_COMPLETE    KarelCommandsTurnLeft  2020-09-08T17:42:49.595Z  \n",
       "268    PRE_ITEM_COMPLETE   KarelCommandsPickStone  2020-09-08T17:42:49.782Z  \n",
       "491    PRE_ITEM_COMPLETE  KarelCommandsPlaceStone  2020-09-08T17:42:49.987Z  \n",
       "86     PRE_ITEM_COMPLETE                CommandsA  2020-09-08T17:42:50.357Z  \n",
       "94     PRE_ITEM_COMPLETE                CommandsB  2020-09-08T17:42:50.862Z  \n",
       "18     PRE_ITEM_COMPLETE             FirstProgram  2020-09-08T17:42:51.718Z  \n",
       "925    PRE_ITEM_COMPLETE              ModifyMoves  2020-09-08T17:42:52.126Z  \n",
       "770    PRE_ITEM_COMPLETE                  PreDone  2020-09-08T17:42:52.762Z  \n",
       "427  UPDATE_CURRENT_VIEW                dashboard  2020-09-08T17:43:05.497Z  \n",
       "11   UPDATE_CURRENT_VIEW             CommandsMLMR  2020-09-08T17:43:20.738Z  \n",
       "342  UPDATE_CURRENT_VIEW            CommandsHouse  2020-09-08T17:43:24.947Z  \n",
       "467  UPDATE_CURRENT_VIEW         CommandsHouseBad  2020-09-08T17:43:29.453Z  \n",
       "172  UPDATE_CURRENT_VIEW             CommandsMLMR  2020-09-08T17:43:31.705Z  \n",
       "164     BUTTON_CLICK_run            CommandsHouse  2020-09-08T17:43:32.425Z  \n",
       "204  UPDATE_CURRENT_VIEW            CommandsHouse  2020-09-08T17:43:47.627Z  \n",
       "197     BUTTON_CLICK_run             CommandsMLMR  2020-09-08T17:43:52.113Z  \n",
       "426     UPDATE_CODE_move             CommandsMLMR  2020-09-08T17:43:56.105Z  \n",
       "904     UPDATE_CODE_move             CommandsMLMR  2020-09-08T17:43:57.643Z  \n",
       "116     UPDATE_CODE_move             CommandsMLMR  2020-09-08T17:43:58.963Z  \n",
       "831     UPDATE_CODE_move             CommandsMLMR  2020-09-08T17:44:00.005Z  \n",
       "114     UPDATE_CODE_move             CommandsMLMR  2020-09-08T17:44:01.119Z  \n",
       "128     UPDATE_CODE_move             CommandsMLMR  2020-09-08T17:44:02.105Z  \n",
       "704     UPDATE_CODE_move             CommandsMLMR  2020-09-08T17:44:03.492Z  \n",
       "809     BUTTON_CLICK_run             CommandsMLMR  2020-09-08T17:44:04.856Z  \n",
       "567             RUN_DONE             CommandsMLMR  2020-09-08T17:44:07.814Z  \n",
       "8    UPDATE_CURRENT_VIEW                dashboard  2020-09-08T17:44:45.426Z  \n",
       "263     UPDATE_CODE_move            MethodsStepUp  2020-09-08T17:44:45.582Z  "
      ]
     },
     "execution_count": 80,
     "metadata": {},
     "output_type": "execute_result"
    }
   ],
   "source": [
    "df_tab3[df_tab3.userId==\"woseliwos\"].sort_values(by='date')"
   ]
  },
  {
   "cell_type": "code",
   "execution_count": null,
   "metadata": {},
   "outputs": [],
   "source": []
  },
  {
   "cell_type": "code",
   "execution_count": null,
   "metadata": {},
   "outputs": [],
   "source": []
  },
  {
   "cell_type": "code",
   "execution_count": null,
   "metadata": {},
   "outputs": [],
   "source": []
  },
  {
   "cell_type": "code",
   "execution_count": null,
   "metadata": {},
   "outputs": [],
   "source": []
  },
  {
   "cell_type": "code",
   "execution_count": null,
   "metadata": {},
   "outputs": [],
   "source": []
  },
  {
   "cell_type": "code",
   "execution_count": null,
   "metadata": {},
   "outputs": [],
   "source": []
  },
  {
   "cell_type": "code",
   "execution_count": null,
   "metadata": {},
   "outputs": [],
   "source": []
  },
  {
   "cell_type": "code",
   "execution_count": null,
   "metadata": {},
   "outputs": [],
   "source": []
  },
  {
   "cell_type": "code",
   "execution_count": null,
   "metadata": {},
   "outputs": [],
   "source": []
  },
  {
   "cell_type": "code",
   "execution_count": null,
   "metadata": {},
   "outputs": [],
   "source": []
  },
  {
   "cell_type": "code",
   "execution_count": null,
   "metadata": {},
   "outputs": [],
   "source": []
  },
  {
   "cell_type": "code",
   "execution_count": null,
   "metadata": {},
   "outputs": [],
   "source": []
  },
  {
   "cell_type": "code",
   "execution_count": null,
   "metadata": {},
   "outputs": [],
   "source": []
  },
  {
   "cell_type": "code",
   "execution_count": null,
   "metadata": {},
   "outputs": [],
   "source": []
  },
  {
   "cell_type": "code",
   "execution_count": null,
   "metadata": {},
   "outputs": [],
   "source": []
  },
  {
   "cell_type": "code",
   "execution_count": null,
   "metadata": {},
   "outputs": [],
   "source": []
  },
  {
   "cell_type": "code",
   "execution_count": 27,
   "metadata": {},
   "outputs": [],
   "source": [
    "def CreateTable(\n",
    "        key_names: [],\n",
    "        list_dict_name: str\n",
    "):\n",
    "    table = {}\n",
    "    # add sorting by timestamp\n",
    "    # [table.append(ev.get(key_name)) for key_name in key_names for ev in dict_name]\n",
    "    for key_name in key_names:\n",
    "\n",
    "        table[key_name] = []\n",
    "\n",
    "        for ev in list_dict_name:\n",
    "            table[key_name].append(ev.get(key_name))\n",
    "\n",
    "    return table\n",
    "\n",
    "\n",
    "def IndexFlattener(df):\n",
    "    '''add desc'''\n",
    "    for col in df.columns:\n",
    "        if col[1] == '':\n",
    "            pass\n",
    "        else:\n",
    "            df[col[1]] = df[col]\n",
    "            df = df.drop(col, axis=1)\n",
    "\n",
    "    df.columns = df.columns.get_level_values(0)\n",
    "\n",
    "    return df"
   ]
  },
  {
   "cell_type": "code",
   "execution_count": null,
   "metadata": {},
   "outputs": [],
   "source": []
  },
  {
   "cell_type": "code",
   "execution_count": null,
   "metadata": {},
   "outputs": [],
   "source": []
  },
  {
   "cell_type": "code",
   "execution_count": null,
   "metadata": {},
   "outputs": [],
   "source": []
  },
  {
   "cell_type": "code",
   "execution_count": 1,
   "metadata": {},
   "outputs": [],
   "source": [
    "from google.cloud import firestore"
   ]
  },
  {
   "cell_type": "code",
   "execution_count": 64,
   "metadata": {},
   "outputs": [],
   "source": [
    "db = firestore.Client.from_service_account_json(\"keys/pila-277913-44ed571ccec0.json\")\n",
    "\n",
    "firestore_collection = []\n",
    "[firestore_collection.append(dic.to_dict()) for dic in db.collection('karelDB').stream()]\n",
    "\n",
    "results = firestore_collection\n"
   ]
  },
  {
   "cell_type": "code",
   "execution_count": 65,
   "metadata": {},
   "outputs": [],
   "source": [
    "import pandas as pd\n",
    "df = pd.DataFrame(CreateTable(['userId','data','date','type','currentView'],results))"
   ]
  },
  {
   "cell_type": "code",
   "execution_count": 67,
   "metadata": {},
   "outputs": [
    {
     "data": {
      "text/plain": [
       "array(['UPDATE_CURRENT_VIEW', 'PRE_ITEM_COMPLETE', 'UPDATE_CODE_move',\n",
       "       'BUTTON_CLICK_run', 'BUTTON_CLICK_reset', 'RUN_DONE'], dtype=object)"
      ]
     },
     "execution_count": 67,
     "metadata": {},
     "output_type": "execute_result"
    }
   ],
   "source": [
    "df.type.unique()"
   ]
  },
  {
   "cell_type": "code",
   "execution_count": 50,
   "metadata": {},
   "outputs": [
    {
     "data": {
      "text/html": [
       "<div>\n",
       "<style scoped>\n",
       "    .dataframe tbody tr th:only-of-type {\n",
       "        vertical-align: middle;\n",
       "    }\n",
       "\n",
       "    .dataframe tbody tr th {\n",
       "        vertical-align: top;\n",
       "    }\n",
       "\n",
       "    .dataframe thead th {\n",
       "        text-align: right;\n",
       "    }\n",
       "</style>\n",
       "<table border=\"1\" class=\"dataframe\">\n",
       "  <thead>\n",
       "    <tr style=\"text-align: right;\">\n",
       "      <th></th>\n",
       "      <th>userId</th>\n",
       "      <th>outcome</th>\n",
       "      <th>CommandsMLMR</th>\n",
       "      <th>KarelDrifts</th>\n",
       "      <th>KarelMoves</th>\n",
       "      <th>ModifyMoves</th>\n",
       "    </tr>\n",
       "  </thead>\n",
       "  <tbody>\n",
       "    <tr>\n",
       "      <th>0</th>\n",
       "      <td>Mario</td>\n",
       "      <td>successful</td>\n",
       "      <td>0.0</td>\n",
       "      <td>33.333333</td>\n",
       "      <td>0.0</td>\n",
       "      <td>0.0</td>\n",
       "    </tr>\n",
       "    <tr>\n",
       "      <th>1</th>\n",
       "      <td>Mario</td>\n",
       "      <td>unsuccessful</td>\n",
       "      <td>0.0</td>\n",
       "      <td>66.666667</td>\n",
       "      <td>0.0</td>\n",
       "      <td>0.0</td>\n",
       "    </tr>\n",
       "    <tr>\n",
       "      <th>2</th>\n",
       "      <td>bachbumbeng</td>\n",
       "      <td>unsuccessful</td>\n",
       "      <td>0.0</td>\n",
       "      <td>0.000000</td>\n",
       "      <td>0.0</td>\n",
       "      <td>100.0</td>\n",
       "    </tr>\n",
       "    <tr>\n",
       "      <th>3</th>\n",
       "      <td>badabum</td>\n",
       "      <td>unsuccessful</td>\n",
       "      <td>100.0</td>\n",
       "      <td>0.000000</td>\n",
       "      <td>0.0</td>\n",
       "      <td>0.0</td>\n",
       "    </tr>\n",
       "    <tr>\n",
       "      <th>4</th>\n",
       "      <td>bonaventura</td>\n",
       "      <td>successful</td>\n",
       "      <td>0.0</td>\n",
       "      <td>100.000000</td>\n",
       "      <td>0.0</td>\n",
       "      <td>0.0</td>\n",
       "    </tr>\n",
       "    <tr>\n",
       "      <th>5</th>\n",
       "      <td>engin</td>\n",
       "      <td>successful</td>\n",
       "      <td>0.0</td>\n",
       "      <td>0.000000</td>\n",
       "      <td>100.0</td>\n",
       "      <td>0.0</td>\n",
       "    </tr>\n",
       "    <tr>\n",
       "      <th>6</th>\n",
       "      <td>woseliwos</td>\n",
       "      <td>successful</td>\n",
       "      <td>100.0</td>\n",
       "      <td>0.000000</td>\n",
       "      <td>0.0</td>\n",
       "      <td>0.0</td>\n",
       "    </tr>\n",
       "  </tbody>\n",
       "</table>\n",
       "</div>"
      ],
      "text/plain": [
       "        userId       outcome  CommandsMLMR  KarelDrifts  KarelMoves  \\\n",
       "0        Mario    successful           0.0    33.333333         0.0   \n",
       "1        Mario  unsuccessful           0.0    66.666667         0.0   \n",
       "2  bachbumbeng  unsuccessful           0.0     0.000000         0.0   \n",
       "3      badabum  unsuccessful         100.0     0.000000         0.0   \n",
       "4  bonaventura    successful           0.0   100.000000         0.0   \n",
       "5        engin    successful           0.0     0.000000       100.0   \n",
       "6    woseliwos    successful         100.0     0.000000         0.0   \n",
       "\n",
       "   ModifyMoves  \n",
       "0          0.0  \n",
       "1          0.0  \n",
       "2        100.0  \n",
       "3          0.0  \n",
       "4          0.0  \n",
       "5          0.0  \n",
       "6          0.0  "
      ]
     },
     "execution_count": 50,
     "metadata": {},
     "output_type": "execute_result"
    }
   ],
   "source": [
    "\n",
    "df = pd.DataFrame(\n",
    "    df[(df.type.str.startswith(\"RUN_DONE\"))].groupby(['userId', 'currentView'])['data'].value_counts() / df[\n",
    "        (df.type.str.startswith(\"RUN_DONE\"))].groupby(['userId', 'currentView'])[\n",
    "        'data'].count() * 100).rename(columns={'data': 'frequency'}).reset_index()\n",
    "\n",
    "df = pd.pivot_table(df, index=['userId', 'data'], columns='currentView').fillna(0).reset_index().rename(\n",
    "    columns={'data': 'outcome'})\n",
    "\n",
    "df = IndexFlattener(df)\n",
    "\n",
    "df.groupy('userId').mean()"
   ]
  },
  {
   "cell_type": "code",
   "execution_count": 44,
   "metadata": {},
   "outputs": [],
   "source": [
    "a = CreateTable(['datav'], results)['data']"
   ]
  },
  {
   "cell_type": "code",
   "execution_count": 52,
   "metadata": {},
   "outputs": [],
   "source": [
    "values = ['2','dd']"
   ]
  },
  {
   "cell_type": "code",
   "execution_count": 59,
   "metadata": {},
   "outputs": [],
   "source": [
    "values2 = ['fdf']"
   ]
  },
  {
   "cell_type": "code",
   "execution_count": 61,
   "metadata": {},
   "outputs": [],
   "source": [
    "values.extend(values2)"
   ]
  },
  {
   "cell_type": "code",
   "execution_count": 74,
   "metadata": {},
   "outputs": [],
   "source": [
    "a = [1,3,4,5]"
   ]
  },
  {
   "cell_type": "code",
   "execution_count": 87,
   "metadata": {},
   "outputs": [],
   "source": [
    "def averagefunction(N:[]):\n",
    "    i=N[-1]\n",
    "    \n",
    "    for n in N[:-1]:\n",
    "        print(n)\n",
    "        i -=n\n",
    "    \n",
    "    print(i)\n",
    "    return abs(i/(len(N)))"
   ]
  },
  {
   "cell_type": "code",
   "execution_count": 88,
   "metadata": {},
   "outputs": [
    {
     "name": "stdout",
     "output_type": "stream",
     "text": [
      "1\n",
      "3\n",
      "4\n",
      "-3\n"
     ]
    },
    {
     "data": {
      "text/plain": [
       "0.75"
      ]
     },
     "execution_count": 88,
     "metadata": {},
     "output_type": "execute_result"
    }
   ],
   "source": [
    "averagefunction(a)"
   ]
  },
  {
   "cell_type": "code",
   "execution_count": null,
   "metadata": {},
   "outputs": [],
   "source": [
    "a"
   ]
  }
 ],
 "metadata": {
  "kernelspec": {
   "display_name": "Python 3",
   "language": "python",
   "name": "python3"
  },
  "language_info": {
   "codemirror_mode": {
    "name": "ipython",
    "version": 3
   },
   "file_extension": ".py",
   "mimetype": "text/x-python",
   "name": "python",
   "nbconvert_exporter": "python",
   "pygments_lexer": "ipython3",
   "version": "3.7.3"
  }
 },
 "nbformat": 4,
 "nbformat_minor": 4
}
